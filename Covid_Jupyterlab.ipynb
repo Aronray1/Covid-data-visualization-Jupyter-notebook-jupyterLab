{
 "cells": [
  {
   "cell_type": "code",
   "execution_count": null,
   "metadata": {},
   "outputs": [
    {
     "name": "stdout",
     "output_type": "stream",
     "text": [
      "New cases b/w dates 2020-02-05 and 2020-05-05 = 521\n",
      "% Contribution of Japan in cases on 2020-05-05: 0.43%\n",
      "% Contribution of India in cases on 2020-05-05: 1.31%\n",
      "% Contribution of China in cases on 2020-05-05: 2.37%\n",
      "% Contribution of Italy in cases on 2020-05-05: 5.98%\n",
      "% Contribution of Russia in cases on 2020-05-05: 4.1%\n",
      "% Contribution of Canada in cases on 2020-05-05: 1.71%\n",
      "Pie repres\n"
     ]
    },
    {
     "data": {
      "text/plain": [
       "<matplotlib.legend.Legend at 0x7f43fafcc450>"
      ]
     },
     "execution_count": 32,
     "metadata": {},
     "output_type": "execute_result"
    },
    {
     "data": {
      "image/png": "[encoded data removed]",
      "text/plain": [
       "<Figure size 432x288 with 1 Axes>"
      ]
     },
     "metadata": {
      "needs_background": "light"
     },
     "output_type": "display_data"
    },
    {
     "data": {
      "image/png": "[encoded data removed]",
      "text/plain": [
       "<Figure size 576x360 with 1 Axes>"
      ]
     },
     "metadata": {
      "needs_background": "light"
     },
     "output_type": "display_data"
    }
   ],
   "source": [
    "import matplotlib.pyplot as plt\n",
    "import pandas as pd\n",
    "from datetime import datetime, date\n",
    "\n",
    "df=pd.read_csv(\"total_cases.csv\")\n",
    "df1=pd.read_csv(\"total_deaths.csv\")\n",
    "query_of_month='Mar'\n",
    "countries=[df.Japan,df.India,df.China,df.Italy,df.Russia,df.Canada]\n",
    "result_label=['Japan','India','China','Italy','Russia','Canada']\n",
    "day=1\n",
    "country=df1.Japan  # change country from here\n",
    "date1='2020-02-05'\n",
    "date2='2020-05-05'\n",
    "#Graph for total confirmed cases \n",
    "Labelcountry='Japan'\n",
    "def Countries_cases(query_month,country):\n",
    "    result=[]\n",
    "    cases=[]\n",
    "    no_of_days=[]\n",
    "    global day\n",
    "    for i in range(len(df['date'])):\n",
    "        a=df.date[i]\n",
    "        b=a.split(\"-\")\n",
    "        datetime_object = datetime.strptime(b[1],\"%m\")\n",
    "        month=datetime_object.strftime(\"%b\")\n",
    "        if(month==query_month):\n",
    "            cases.append(country[i])\n",
    "            no_of_days.append(day)\n",
    "            day=day+1\n",
    "    result.append(cases)\n",
    "    result.append(no_of_days)\n",
    "    day=1\n",
    "    return result\n",
    "\n",
    "def Total_death_world(query_month):\n",
    "    result=[]\n",
    "    cases=[]\n",
    "    no_of_days=[]\n",
    "    global day\n",
    "    for i in range(len(df1['date'])):\n",
    "        a=df1.date[i]\n",
    "        b=a.split(\"-\")\n",
    "        datetime_object = datetime.strptime(b[1],\"%m\")\n",
    "        month=datetime_object.strftime(\"%b\")\n",
    "        if(month==query_month):\n",
    "            cases.append(df1.World[i])\n",
    "            no_of_days.append(day)\n",
    "            day=day+1\n",
    "    result.append(cases)\n",
    "    result.append(no_of_days)\n",
    "    day=1\n",
    "    return result\n",
    "\n",
    "#count new cases b/w two dates\n",
    "\n",
    "def Casesbwdates(date1,date2,country):\n",
    "     if date1 is not None and date2 is not None:\n",
    "            datetime_object = datetime.strptime(df.date[0],\"%Y-%m-%d\")\n",
    "            date=datetime_object.strftime(\"%Y-%m-%d\")\n",
    "            csv_date=df['date']\n",
    "            for i in range(len(csv_date)):\n",
    "                if(date1==df.date[i]):\n",
    "                    index1 = i\n",
    "                if(date2==df.date[i]):\n",
    "                    index2=i\n",
    "            countcases=country[index2]-country[index1]\n",
    "            return 'New cases b/w dates {} and {} = {}'.format(date1,date2,countcases)\n",
    "            \n",
    "print(Casesbwdates(date1,date2,country))\n",
    "\n",
    "def piecomparisonbwdates(date1,date2,countries):\n",
    "    countcases=[]\n",
    "    percentage=[]\n",
    "    data=[]\n",
    "    if date1 is not None and date2 is not None:\n",
    "        datetime_object = datetime.strptime(df.date[0],\"%Y-%m-%d\")\n",
    "        date=datetime_object.strftime(\"%Y-%m-%d\")\n",
    "        csv_date=df['date']\n",
    "        for i in range(len(csv_date)):\n",
    "            if(date1==df.date[i]):\n",
    "                index1 = i\n",
    "            if(date2==df.date[i]):\n",
    "                index2=i\n",
    "        for j in countries:\n",
    "            val=round(((j[index2])/df.World[index2])*100,2)\n",
    "            countcases.append(j[index2]-j[index1])\n",
    "            percentage.append(val)\n",
    "            val=0\n",
    "        data.append(countcases)\n",
    "        data.append(percentage)\n",
    "        return data\n",
    "\n",
    "# getting data from functions\n",
    "pieresult=(piecomparisonbwdates(date1,date2,countries))\n",
    "pieactivities=['Japan','India','China','Italy','Russia','Canada']\n",
    "for i in range(len(pieresult[1])):\n",
    "     print('% Contribution of {} in cases on {}: {}%'.format(result_label[i],date2,pieresult[1][i]))\n",
    "        \n",
    "plt.stackplot([1,2,3],[3,4,5],[6,7,8])\n",
    "\n",
    "a=Countries_cases(query_of_month,country)\n",
    "b=Total_death_world(query_of_month)\n",
    "plt.rc('grid', linestyle=\"-\", color='black',lw=0.2)\n",
    "plt.figure(figsize=(8,5))\n",
    "plt.grid(True)\n",
    "plt.xlabel('days')\n",
    "plt.ylabel('cases')\n",
    "plt.title('month wise confirmed cases 2020 in {}'.format(Labelcountry))\n",
    "plt.plot(a[1],a[0],label='Total confirmed cases in {}'.format(query_of_month))\n",
    "plt.scatter(a[1],a[0])\n",
    "plt.legend()\n",
    "\n",
    "plt.figure()\n",
    "cols=['c','m','r','y','b','k']\n",
    "plt.pie(pieresult[0],labels=pieactivities,colors=cols,explode=(0,0.1,0,0,0,0),autopct='%1.1f%%')\n",
    "\n",
    "plt.rc('grid', linestyle=\"-\", color='black',lw=0.2)\n",
    "plt.figure(figsize=(8,5))\n",
    "plt.grid(True)\n",
    "plt.xlabel('days')\n",
    "plt.ylabel('Deaths')\n",
    "print('Pie repres')\n",
    "plt.title('Month wise death_cases 2020 in {}'.format(Labelcountry))\n",
    "plt.plot(b[1],b[0],label='Total death_cases in the world in {}'.format(query_of_month),color='r')\n",
    "plt.scatter(b[1],b[0],color='r')\n",
    "plt.legend()\n",
    "\n",
    "\n",
    "\n"
   ]
  },
  {
   "cell_type": "code",
   "execution_count": null,
   "metadata": {},
   "outputs": [],
   "source": []
  },
  {
   "cell_type": "code",
   "execution_count": null,
   "metadata": {},
   "outputs": [],
   "source": []
  }
 ],
 "metadata": {
  "kernelspec": {
   "display_name": "Python 3",
   "language": "python",
   "name": "python3"
  },
  "language_info": {
   "codemirror_mode": {
    "name": "ipython",
    "version": 3
   },
   "file_extension": ".py",
   "mimetype": "text/x-python",
   "name": "python",
   "nbconvert_exporter": "python",
   "pygments_lexer": "ipython3",
   "version": "3.7.6"
  }
 },
 "nbformat": 4,
 "nbformat_minor": 4
}
